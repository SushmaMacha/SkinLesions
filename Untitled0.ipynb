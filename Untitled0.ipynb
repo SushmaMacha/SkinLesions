{
  "nbformat": 4,
  "nbformat_minor": 0,
  "metadata": {
    "colab": {
      "name": "Untitled0.ipynb",
      "version": "0.3.2",
      "provenance": [],
      "include_colab_link": true
    },
    "kernelspec": {
      "name": "python3",
      "display_name": "Python 3"
    },
    "accelerator": "GPU"
  },
  "cells": [
    {
      "cell_type": "markdown",
      "metadata": {
        "id": "view-in-github",
        "colab_type": "text"
      },
      "source": [
        "<a href=\"https://colab.research.google.com/github/SushmaMacha/SkinLesions/blob/master/Untitled0.ipynb\" target=\"_parent\"><img src=\"https://colab.research.google.com/assets/colab-badge.svg\" alt=\"Open In Colab\"/></a>"
      ]
    },
    {
      "metadata": {
        "id": "su1LrCaLKYNt",
        "colab_type": "code",
        "outputId": "b805b0f4-4c71-493d-e039-2957667d545a",
        "colab": {
          "base_uri": "https://localhost:8080/",
          "height": 124
        }
      },
      "cell_type": "code",
      "source": [
        "from google.colab import drive\n",
        "drive.mount('/content/gdrive')\n",
        "!ln -s gdrive/'My Drive'/CMPE257/Data data\n",
        "!ln -s gdrive/'My Drive'/CMPE257/Code code"
      ],
      "execution_count": 0,
      "outputs": [
        {
          "output_type": "stream",
          "text": [
            "Go to this URL in a browser: https://accounts.google.com/o/oauth2/auth?client_id=947318989803-6bn6qk8qdgf4n4g3pfee6491hc0brc4i.apps.googleusercontent.com&redirect_uri=urn%3Aietf%3Awg%3Aoauth%3A2.0%3Aoob&scope=email%20https%3A%2F%2Fwww.googleapis.com%2Fauth%2Fdocs.test%20https%3A%2F%2Fwww.googleapis.com%2Fauth%2Fdrive%20https%3A%2F%2Fwww.googleapis.com%2Fauth%2Fdrive.photos.readonly%20https%3A%2F%2Fwww.googleapis.com%2Fauth%2Fpeopleapi.readonly&response_type=code\n",
            "\n",
            "Enter your authorization code:\n",
            "··········\n",
            "Mounted at /content/gdrive\n"
          ],
          "name": "stdout"
        }
      ]
    },
    {
      "metadata": {
        "id": "IftsQEXLKod3",
        "colab_type": "code",
        "outputId": "956a38f8-0caf-4d0c-f468-bda5cb368984",
        "colab": {
          "base_uri": "https://localhost:8080/",
          "height": 121
        }
      },
      "cell_type": "code",
      "source": [
        "!ls\n",
        "!ls gdrive/'My Drive'"
      ],
      "execution_count": 0,
      "outputs": [
        {
          "output_type": "stream",
          "text": [
            "gdrive\tsample_data\n",
            " CMPE257\t\t\t\t    'Untitled Diagram (1).html'\n",
            " COD_Pruthvi.pdf\t\t\t    'Untitled Diagram.html'\n",
            "'Copy of transfer_learning_finetune.ipynb'  'Untitled spreadsheet (1).gsheet'\n",
            "'resume_t (1).pdf'\t\t\t    'Untitled spreadsheet.gsheet'\n",
            " resume_t.pdf\n"
          ],
          "name": "stdout"
        }
      ]
    },
    {
      "metadata": {
        "id": "sqnWNeJ7QfjR",
        "colab_type": "code",
        "outputId": "a44a86c2-42d9-4bc6-84c3-2dad26fe352f",
        "colab": {
          "base_uri": "https://localhost:8080/",
          "height": 90
        }
      },
      "cell_type": "code",
      "source": [
        "#Reference : http://marubon-ds.blogspot.com/2017/10/inceptionv3-fine-tuning-model.html\n",
        "from keras.callbacks import ModelCheckpoint, EarlyStopping\n",
        "# coding: utf-8\n",
        "\n",
        "# In[7]:\n",
        "\n",
        "\n",
        "from keras.preprocessing.image import ImageDataGenerator\n",
        "from keras.applications.inception_v3 import InceptionV3\n",
        "from keras.preprocessing import image\n",
        "from keras.models import Model\n",
        "from keras.layers import Dense, GlobalAveragePooling2D\n",
        "from keras import backend as K\n",
        "\n",
        "from skimage import data, img_as_float\n",
        "from skimage import exposure\n",
        "\n",
        "from keras.applications.inception_v3 import InceptionV3\n",
        "base_model = InceptionV3(weights='imagenet', include_top=False)\n"
      ],
      "execution_count": 0,
      "outputs": [
        {
          "output_type": "stream",
          "text": [
            "Using TensorFlow backend.\n"
          ],
          "name": "stderr"
        },
        {
          "output_type": "stream",
          "text": [
            "Downloading data from https://github.com/fchollet/deep-learning-models/releases/download/v0.5/inception_v3_weights_tf_dim_ordering_tf_kernels_notop.h5\n",
            "87916544/87910968 [==============================] - 8s 0us/step\n"
          ],
          "name": "stdout"
        }
      ]
    },
    {
      "metadata": {
        "id": "3uK3qIOb-m_i",
        "colab_type": "code",
        "colab": {}
      },
      "cell_type": "code",
      "source": [
        "datagen = ImageDataGenerator(\n",
        "        rotation_range=40,\n",
        "        width_shift_range=0.2,\n",
        "        height_shift_range=0.2,\n",
        "        rescale=1./255,\n",
        "        shear_range=0.2,\n",
        "        zoom_range=0.2,\n",
        "        horizontal_flip=True,\n",
        "        fill_mode='nearest')\n",
        "\n",
        "# In[9]:\n",
        "\n",
        "\n",
        "# add a global spatial average pooling layer\n",
        "x = base_model.output\n",
        "x = GlobalAveragePooling2D()(x)\n",
        "# let's add a fully-connected layer\n",
        "x = Dense(1024, activation='relu')(x) #try 256\n",
        "# and a logistic layer -- let's say we have 200 classes\n",
        "predictions = Dense(2, activation='softmax')(x)\n",
        "\n",
        "# this is the model we will train\n",
        "model = Model(inputs=base_model.input, outputs=predictions)\n",
        "\n"
      ],
      "execution_count": 0,
      "outputs": []
    },
    {
      "metadata": {
        "id": "D7neuAjq-wMx",
        "colab_type": "code",
        "colab": {}
      },
      "cell_type": "code",
      "source": [
        "# first: train only the top layers (which were randomly initialized)\n",
        "# i.e. freeze all convolutional InceptionV3 layers\n",
        "for layer in base_model.layers:\n",
        "    layer.trainable = False\n",
        "\n",
        "# compile the model (should be done *after* setting layers to non-trainable)\n",
        "model.compile(optimizer='Adam', loss='categorical_crossentropy',metrics = ['accuracy'])  #try drop-out\n",
        "\n",
        "\n",
        "# In[12]:\n",
        "\n",
        "\n",
        "#test data generator\n",
        "test_datagen = ImageDataGenerator(rescale=1./255)\n",
        "#train data generator\n",
        "train_datagen = ImageDataGenerator(\n",
        "        rescale=1./255,\n",
        "        shear_range=0.2,\n",
        "        zoom_range=0.2)\n",
        "        #horizontal_flip=True)\n",
        "#validation data generator\n",
        "\n",
        "#generate test, train, validation data from the folders\n",
        "\n",
        "#model.compile ?\n",
        "#model.fit - validation and train accuracies\n",
        "#model.evaluate - test accuracy\n",
        "\n",
        "\n",
        "# In[ ]:\n",
        "\n",
        "\n",
        "\n"
      ],
      "execution_count": 0,
      "outputs": []
    },
    {
      "metadata": {
        "id": "Gks4cu5i-2-w",
        "colab_type": "code",
        "outputId": "401a13a1-bdd8-4803-ab8e-46c498385657",
        "colab": {
          "base_uri": "https://localhost:8080/",
          "height": 52
        }
      },
      "cell_type": "code",
      "source": [
        "train_generator = train_datagen.flow_from_directory(\n",
        "        \"data/train\",  # this is the target directory\n",
        "        target_size=(256, 256),  # all images will be resized to 150x150\n",
        "        batch_size=32,\n",
        "        class_mode='categorical')\n",
        "\n",
        "validation_generator = test_datagen.flow_from_directory(\n",
        "        \"data/val\",\n",
        "        target_size=(256, 256),\n",
        "        batch_size=32,\n",
        "        class_mode='categorical')\n",
        "\n",
        "\n",
        "STEP_SIZE_TRAIN=train_generator.n//train_generator.batch_size\n",
        "STEP_SIZE_VALID=validation_generator.n//validation_generator.batch_size"
      ],
      "execution_count": 0,
      "outputs": [
        {
          "output_type": "stream",
          "text": [
            "Found 1600 images belonging to 2 classes.\n",
            "Found 384 images belonging to 2 classes.\n"
          ],
          "name": "stdout"
        }
      ]
    },
    {
      "metadata": {
        "id": "1FZq65vOQg2q",
        "colab_type": "code",
        "colab": {}
      },
      "cell_type": "code",
      "source": [
        ""
      ],
      "execution_count": 0,
      "outputs": []
    },
    {
      "metadata": {
        "id": "4HZK9cfu-Wf4",
        "colab_type": "code",
        "outputId": "23a0c1a2-bb51-4239-bf04-cbab37b53701",
        "colab": {
          "base_uri": "https://localhost:8080/",
          "height": 191
        }
      },
      "cell_type": "code",
      "source": [
        "# Save the model according to the conditions  \n",
        "checkpoint = ModelCheckpoint('data/inception_v3.h5',monitor='val_acc', verbose=1, save_best_only=True, save_weights_only=False, mode='auto', period=1)\n",
        "#early = EarlyStopping(monitor='val_acc', min_delta=0, patience=20, verbose=1, mode='auto')\n",
        "\n",
        "model.fit_generator(\n",
        "        train_generator,\n",
        "        steps_per_epoch=STEP_SIZE_TRAIN,\n",
        "        epochs=50,\n",
        "        validation_data=validation_generator,\n",
        "        validation_steps=STEP_SIZE_VALID,\n",
        "        callbacks = [checkpoint])\n",
        "#model.save_weights('first_try.h5')"
      ],
      "execution_count": 0,
      "outputs": [
        {
          "output_type": "stream",
          "text": [
            "Epoch 1/50\n",
            "50/50 [==============================] - 993s 20s/step - loss: 0.7655 - acc: 0.6244 - val_loss: 0.7139 - val_acc: 0.5130\n",
            "\n",
            "Epoch 00001: val_acc improved from -inf to 0.51302, saving model to data/inception_v3.h5\n",
            "Epoch 2/50\n",
            "50/50 [==============================] - 216s 4s/step - loss: 0.5946 - acc: 0.6769 - val_loss: 0.7482 - val_acc: 0.5078\n",
            "\n",
            "Epoch 00002: val_acc did not improve from 0.51302\n",
            "Epoch 3/50\n",
            " 5/50 [==>...........................] - ETA: 4:41 - loss: 0.5209 - acc: 0.7500"
          ],
          "name": "stdout"
        }
      ]
    },
    {
      "metadata": {
        "id": "rRRGIKbzvqko",
        "colab_type": "code",
        "outputId": "4cc68db9-b9a2-4627-92c3-e714d56ff76c",
        "colab": {
          "base_uri": "https://localhost:8080/",
          "height": 3501
        }
      },
      "cell_type": "code",
      "source": [
        "from keras.optimizers import SGD\n",
        "# choose the layers which are updated by training\n",
        "layer_num = len(model.layers)\n",
        "for layer in model.layers[:279]:\n",
        "    layer.trainable = False\n",
        "\n",
        "for layer in model.layers[279:]:\n",
        "    layer.trainable = True\n",
        "\n",
        "# training\n",
        "model.compile(optimizer=SGD(lr=0.01, momentum=0.9), loss='categorical_crossentropy', metrics=['accuracy'])\n",
        "model.fit_generator(\n",
        "        train_generator,\n",
        "        steps_per_epoch=STEP_SIZE_TRAIN,\n",
        "        epochs=50,\n",
        "        validation_data=validation_generator,\n",
        "        validation_steps=STEP_SIZE_VALID,\n",
        "        callbacks = [checkpoint])"
      ],
      "execution_count": 0,
      "outputs": [
        {
          "output_type": "stream",
          "text": [
            "Epoch 1/50\n",
            "80/80 [==============================] - 171s 2s/step - loss: 0.5975 - acc: 0.6713 - val_loss: 0.6643 - val_acc: 0.6684\n",
            "\n",
            "Epoch 00001: val_acc improved from 0.60526 to 0.66842, saving model to data/inception_v3.h5\n",
            "Epoch 2/50\n",
            "80/80 [==============================] - 134s 2s/step - loss: 0.5726 - acc: 0.7138 - val_loss: 0.7399 - val_acc: 0.4620\n",
            "\n",
            "Epoch 00002: val_acc did not improve from 0.66842\n",
            "Epoch 3/50\n",
            "80/80 [==============================] - 131s 2s/step - loss: 0.5104 - acc: 0.7188 - val_loss: 0.7865 - val_acc: 0.5000\n",
            "\n",
            "Epoch 00003: val_acc did not improve from 0.66842\n",
            "Epoch 4/50\n",
            "80/80 [==============================] - 137s 2s/step - loss: 0.5198 - acc: 0.7325 - val_loss: 0.7068 - val_acc: 0.6848\n",
            "\n",
            "Epoch 00004: val_acc improved from 0.66842 to 0.68478, saving model to data/inception_v3.h5\n",
            "Epoch 5/50\n",
            "80/80 [==============================] - 129s 2s/step - loss: 0.5062 - acc: 0.7700 - val_loss: 0.7782 - val_acc: 0.5105\n",
            "\n",
            "Epoch 00005: val_acc did not improve from 0.68478\n",
            "Epoch 6/50\n",
            "80/80 [==============================] - 137s 2s/step - loss: 0.4976 - acc: 0.7475 - val_loss: 1.1679 - val_acc: 0.6087\n",
            "\n",
            "Epoch 00006: val_acc did not improve from 0.68478\n",
            "Epoch 7/50\n",
            "80/80 [==============================] - 138s 2s/step - loss: 0.4387 - acc: 0.7837 - val_loss: 0.7722 - val_acc: 0.6263\n",
            "\n",
            "Epoch 00007: val_acc did not improve from 0.68478\n",
            "Epoch 8/50\n",
            "80/80 [==============================] - 133s 2s/step - loss: 0.4937 - acc: 0.7725 - val_loss: 0.7603 - val_acc: 0.5652\n",
            "\n",
            "Epoch 00008: val_acc did not improve from 0.68478\n",
            "Epoch 9/50\n",
            "80/80 [==============================] - 141s 2s/step - loss: 0.4635 - acc: 0.7762 - val_loss: 0.8317 - val_acc: 0.5789\n",
            "\n",
            "Epoch 00009: val_acc did not improve from 0.68478\n",
            "Epoch 10/50\n",
            "80/80 [==============================] - 137s 2s/step - loss: 0.4455 - acc: 0.7950 - val_loss: 0.7499 - val_acc: 0.6141\n",
            "\n",
            "Epoch 00010: val_acc did not improve from 0.68478\n",
            "Epoch 11/50\n",
            "80/80 [==============================] - 130s 2s/step - loss: 0.4337 - acc: 0.7850 - val_loss: 0.7268 - val_acc: 0.5105\n",
            "\n",
            "Epoch 00011: val_acc did not improve from 0.68478\n",
            "Epoch 12/50\n",
            "80/80 [==============================] - 143s 2s/step - loss: 0.3966 - acc: 0.8087 - val_loss: 1.0469 - val_acc: 0.6793\n",
            "\n",
            "Epoch 00012: val_acc did not improve from 0.68478\n",
            "Epoch 13/50\n",
            "80/80 [==============================] - 140s 2s/step - loss: 0.3810 - acc: 0.8100 - val_loss: 1.0262 - val_acc: 0.6632\n",
            "\n",
            "Epoch 00013: val_acc did not improve from 0.68478\n",
            "Epoch 14/50\n",
            "80/80 [==============================] - 136s 2s/step - loss: 0.4449 - acc: 0.8112 - val_loss: 0.7684 - val_acc: 0.5163\n",
            "\n",
            "Epoch 00014: val_acc did not improve from 0.68478\n",
            "Epoch 15/50\n",
            "80/80 [==============================] - 137s 2s/step - loss: 0.4069 - acc: 0.8200 - val_loss: 1.9279 - val_acc: 0.5211\n",
            "\n",
            "Epoch 00015: val_acc did not improve from 0.68478\n",
            "Epoch 16/50\n",
            "80/80 [==============================] - 141s 2s/step - loss: 0.4209 - acc: 0.8150 - val_loss: 0.8510 - val_acc: 0.5870\n",
            "\n",
            "Epoch 00016: val_acc did not improve from 0.68478\n",
            "Epoch 17/50\n",
            "80/80 [==============================] - 143s 2s/step - loss: 0.3765 - acc: 0.8075 - val_loss: 0.8081 - val_acc: 0.6947\n",
            "\n",
            "Epoch 00017: val_acc improved from 0.68478 to 0.69474, saving model to data/inception_v3.h5\n",
            "Epoch 18/50\n",
            "80/80 [==============================] - 127s 2s/step - loss: 0.3819 - acc: 0.8200 - val_loss: 1.3237 - val_acc: 0.5272\n",
            "\n",
            "Epoch 00018: val_acc did not improve from 0.69474\n",
            "Epoch 19/50\n",
            "80/80 [==============================] - 131s 2s/step - loss: 0.3779 - acc: 0.8362 - val_loss: 1.0974 - val_acc: 0.6158\n",
            "\n",
            "Epoch 00019: val_acc did not improve from 0.69474\n",
            "Epoch 20/50\n",
            "80/80 [==============================] - 132s 2s/step - loss: 0.4066 - acc: 0.8012 - val_loss: 0.7687 - val_acc: 0.5652\n",
            "\n",
            "Epoch 00020: val_acc did not improve from 0.69474\n",
            "Epoch 21/50\n",
            "80/80 [==============================] - 120s 2s/step - loss: 0.3570 - acc: 0.8275 - val_loss: 1.0383 - val_acc: 0.5526\n",
            "\n",
            "Epoch 00021: val_acc did not improve from 0.69474\n",
            "Epoch 22/50\n",
            "80/80 [==============================] - 135s 2s/step - loss: 0.4218 - acc: 0.8075 - val_loss: 0.9754 - val_acc: 0.5054\n",
            "\n",
            "Epoch 00022: val_acc did not improve from 0.69474\n",
            "Epoch 23/50\n",
            "80/80 [==============================] - 110s 1s/step - loss: 0.3717 - acc: 0.8150 - val_loss: 1.1277 - val_acc: 0.5211\n",
            "\n",
            "Epoch 00023: val_acc did not improve from 0.69474\n",
            "Epoch 24/50\n",
            "80/80 [==============================] - 140s 2s/step - loss: 0.3480 - acc: 0.8437 - val_loss: 0.7681 - val_acc: 0.5924\n",
            "\n",
            "Epoch 00024: val_acc did not improve from 0.69474\n",
            "Epoch 25/50\n",
            "80/80 [==============================] - 116s 1s/step - loss: 0.3357 - acc: 0.8425 - val_loss: 0.6518 - val_acc: 0.6842\n",
            "\n",
            "Epoch 00025: val_acc did not improve from 0.69474\n",
            "Epoch 26/50\n",
            "80/80 [==============================] - 125s 2s/step - loss: 0.3678 - acc: 0.8412 - val_loss: 0.8131 - val_acc: 0.4565\n",
            "\n",
            "Epoch 00026: val_acc did not improve from 0.69474\n",
            "Epoch 27/50\n",
            "80/80 [==============================] - 123s 2s/step - loss: 0.3436 - acc: 0.8437 - val_loss: 0.7813 - val_acc: 0.7158\n",
            "\n",
            "Epoch 00027: val_acc improved from 0.69474 to 0.71579, saving model to data/inception_v3.h5\n",
            "Epoch 28/50\n",
            "80/80 [==============================] - 125s 2s/step - loss: 0.4047 - acc: 0.8000 - val_loss: 0.6473 - val_acc: 0.6359\n",
            "\n",
            "Epoch 00028: val_acc did not improve from 0.71579\n",
            "Epoch 29/50\n",
            "80/80 [==============================] - 131s 2s/step - loss: 0.3145 - acc: 0.8450 - val_loss: 0.9164 - val_acc: 0.6105\n",
            "\n",
            "Epoch 00029: val_acc did not improve from 0.71579\n",
            "Epoch 30/50\n",
            "80/80 [==============================] - 112s 1s/step - loss: 0.4087 - acc: 0.8325 - val_loss: 0.8582 - val_acc: 0.5652\n",
            "\n",
            "Epoch 00030: val_acc did not improve from 0.71579\n",
            "Epoch 31/50\n",
            "80/80 [==============================] - 128s 2s/step - loss: 0.3540 - acc: 0.8287 - val_loss: 0.9502 - val_acc: 0.5579\n",
            "\n",
            "Epoch 00031: val_acc did not improve from 0.71579\n",
            "Epoch 32/50\n",
            "80/80 [==============================] - 121s 2s/step - loss: 0.3391 - acc: 0.8500 - val_loss: 1.0987 - val_acc: 0.5842\n",
            "\n",
            "Epoch 00032: val_acc did not improve from 0.71579\n",
            "Epoch 33/50\n",
            "80/80 [==============================] - 128s 2s/step - loss: 0.3241 - acc: 0.8400 - val_loss: 1.0912 - val_acc: 0.6087\n",
            "\n",
            "Epoch 00033: val_acc did not improve from 0.71579\n",
            "Epoch 34/50\n",
            "80/80 [==============================] - 113s 1s/step - loss: 0.3169 - acc: 0.8600 - val_loss: 0.9448 - val_acc: 0.7368\n",
            "\n",
            "Epoch 00034: val_acc improved from 0.71579 to 0.73684, saving model to data/inception_v3.h5\n",
            "Epoch 35/50\n",
            "80/80 [==============================] - 126s 2s/step - loss: 0.3288 - acc: 0.8700 - val_loss: 1.0491 - val_acc: 0.7554\n",
            "\n",
            "Epoch 00035: val_acc improved from 0.73684 to 0.75543, saving model to data/inception_v3.h5\n",
            "Epoch 36/50\n",
            "80/80 [==============================] - 117s 1s/step - loss: 0.3254 - acc: 0.8537 - val_loss: 0.8507 - val_acc: 0.5684\n",
            "\n",
            "Epoch 00036: val_acc did not improve from 0.75543\n",
            "Epoch 37/50\n",
            "80/80 [==============================] - 127s 2s/step - loss: 0.3232 - acc: 0.8575 - val_loss: 0.8787 - val_acc: 0.7120\n",
            "\n",
            "Epoch 00037: val_acc did not improve from 0.75543\n",
            "Epoch 38/50\n",
            "80/80 [==============================] - 123s 2s/step - loss: 0.3383 - acc: 0.8250 - val_loss: 0.8667 - val_acc: 0.6474\n",
            "\n",
            "Epoch 00038: val_acc did not improve from 0.75543\n",
            "Epoch 39/50\n",
            "80/80 [==============================] - 119s 1s/step - loss: 0.2934 - acc: 0.8800 - val_loss: 1.6151 - val_acc: 0.5815\n",
            "\n",
            "Epoch 00039: val_acc did not improve from 0.75543\n",
            "Epoch 40/50\n",
            "80/80 [==============================] - 133s 2s/step - loss: 0.3190 - acc: 0.8512 - val_loss: 1.1194 - val_acc: 0.5632\n",
            "\n",
            "Epoch 00040: val_acc did not improve from 0.75543\n",
            "Epoch 41/50\n",
            "80/80 [==============================] - 119s 1s/step - loss: 0.3176 - acc: 0.8487 - val_loss: 0.9454 - val_acc: 0.6630\n",
            "\n",
            "Epoch 00041: val_acc did not improve from 0.75543\n",
            "Epoch 42/50\n",
            "80/80 [==============================] - 142s 2s/step - loss: 0.2777 - acc: 0.8812 - val_loss: 1.5974 - val_acc: 0.5737\n",
            "\n",
            "Epoch 00042: val_acc did not improve from 0.75543\n",
            "Epoch 43/50\n",
            "80/80 [==============================] - 126s 2s/step - loss: 0.2786 - acc: 0.8787 - val_loss: 0.9907 - val_acc: 0.6141\n",
            "\n",
            "Epoch 00043: val_acc did not improve from 0.75543\n",
            "Epoch 44/50\n",
            "80/80 [==============================] - 144s 2s/step - loss: 0.2842 - acc: 0.8725 - val_loss: 1.3367 - val_acc: 0.6632\n",
            "\n",
            "Epoch 00044: val_acc did not improve from 0.75543\n",
            "Epoch 45/50\n",
            "80/80 [==============================] - 138s 2s/step - loss: 0.3017 - acc: 0.8725 - val_loss: 1.0043 - val_acc: 0.6793\n",
            "\n",
            "Epoch 00045: val_acc did not improve from 0.75543\n",
            "Epoch 46/50\n",
            "80/80 [==============================] - 138s 2s/step - loss: 0.3048 - acc: 0.8662 - val_loss: 1.2666 - val_acc: 0.6211\n",
            "\n",
            "Epoch 00046: val_acc did not improve from 0.75543\n",
            "Epoch 47/50\n",
            "80/80 [==============================] - 148s 2s/step - loss: 0.2816 - acc: 0.9037 - val_loss: 1.2749 - val_acc: 0.6033\n",
            "\n",
            "Epoch 00047: val_acc did not improve from 0.75543\n",
            "Epoch 48/50\n",
            "80/80 [==============================] - 136s 2s/step - loss: 0.2255 - acc: 0.9025 - val_loss: 1.2348 - val_acc: 0.6316\n",
            "\n",
            "Epoch 00048: val_acc did not improve from 0.75543\n",
            "Epoch 49/50\n",
            "80/80 [==============================] - 143s 2s/step - loss: 0.2766 - acc: 0.8762 - val_loss: 1.4678 - val_acc: 0.6304\n",
            "\n",
            "Epoch 00049: val_acc did not improve from 0.75543\n",
            "Epoch 50/50\n",
            "80/80 [==============================] - 139s 2s/step - loss: 0.2768 - acc: 0.8662 - val_loss: 1.9054 - val_acc: 0.5684\n",
            "\n",
            "Epoch 00050: val_acc did not improve from 0.75543\n"
          ],
          "name": "stdout"
        },
        {
          "output_type": "execute_result",
          "data": {
            "text/plain": [
              "<keras.callbacks.History at 0x7fc4fb06b630>"
            ]
          },
          "metadata": {
            "tags": []
          },
          "execution_count": 14
        }
      ]
    }
  ]
}